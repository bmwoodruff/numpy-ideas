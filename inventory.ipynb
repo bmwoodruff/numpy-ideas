{
 "cells": [
  {
   "cell_type": "code",
   "execution_count": 1,
   "id": "4a559a83-ad11-4315-b8d3-747255b5e85f",
   "metadata": {},
   "outputs": [
    {
     "name": "stdout",
     "output_type": "stream",
     "text": [
      "Inventory saved to inventory.txt\n"
     ]
    }
   ],
   "source": [
    "import requests\n",
    "from sphinx.ext.intersphinx import InventoryFile\n",
    "from io import BytesIO\n",
    "from urllib.parse import urljoin\n",
    "\n",
    "def download_objects_inv(url):\n",
    "    try:\n",
    "        response = requests.get(url)\n",
    "        response.raise_for_status()\n",
    "        return response.content\n",
    "    except requests.exceptions.RequestException as e:\n",
    "        print(f\"Error downloading {url}: {e}\")\n",
    "        return None\n",
    "\n",
    "def parse_objects_inv(data, base_url):\n",
    "    # Use InventoryFile to parse the inventory\n",
    "    inv_file = InventoryFile.load(BytesIO(data), base_url, urljoin)\n",
    "    \n",
    "    inventory = {}\n",
    "    for project_name, project_data in inv_file.items():\n",
    "        inventory[project_name] = {}\n",
    "        for name, (project, version, uri, display_name) in project_data.items():\n",
    "            inventory[project_name][name] = (uri, display_name)\n",
    "    return inventory\n",
    "\n",
    "def save_inventory_to_file(inventory, filename):\n",
    "    with open(filename, 'w', encoding='utf-8') as file:\n",
    "        for category, items in inventory.items():\n",
    "            file.write(f\"\\nCategory: {category}\\n\")\n",
    "            for name, (location, dispname) in items.items():\n",
    "                file.write(f\"  {name} -> {location} ({dispname})\\n\")\n",
    "\n",
    "def print_inventory(url, filename):\n",
    "    data = download_objects_inv(url + 'objects.inv')\n",
    "    if data:\n",
    "        inventory = parse_objects_inv(data, url)\n",
    "        save_inventory_to_file(inventory, filename)\n",
    "        print(f\"Inventory saved to {filename}\")\n",
    "\n",
    "# URL of the objects.inv file\n",
    "url = 'https://numpy.org/devdocs/'\n",
    "\n",
    "# Output file name\n",
    "output_file = 'inventory.txt'\n",
    "\n",
    "# Print the inventory\n",
    "print_inventory(url, output_file)\n"
   ]
  },
  {
   "cell_type": "code",
   "execution_count": null,
   "id": "31e18b3a-fc22-47a7-96c7-e8a61f068017",
   "metadata": {},
   "outputs": [],
   "source": []
  }
 ],
 "metadata": {
  "kernelspec": {
   "display_name": "venv-numpy-dev",
   "language": "python",
   "name": "venv-numpy-dev"
  },
  "language_info": {
   "codemirror_mode": {
    "name": "ipython",
    "version": 3
   },
   "file_extension": ".py",
   "mimetype": "text/x-python",
   "name": "python",
   "nbconvert_exporter": "python",
   "pygments_lexer": "ipython3",
   "version": "3.11.9"
  }
 },
 "nbformat": 4,
 "nbformat_minor": 5
}
